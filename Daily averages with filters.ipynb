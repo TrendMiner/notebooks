{
 "cells": [
  {
   "cell_type": "markdown",
   "id": "3a8c95fd",
   "metadata": {},
   "source": [
    "# Daily averages with filter\n",
    "This script calculates the daily average of multiple tags, accounting for filtered periods. The script follows these steps:\n",
    "1. Filtered-out periods are obtained from a search\n",
    "2. Full days are obtained from a search (day tag = constant, no filter)\n",
    "3. Partial filtered results within each day are obtained (day tag = constant, excluded filtered periods)\n",
    "4. For each day, take the weighthed average of filtered result averages to get a single global average\n",
    "    - Partial results are weighted by their duration\n",
    "5. Export results to csv"
   ]
  },
  {
   "cell_type": "markdown",
   "id": "af68e952",
   "metadata": {},
   "source": [
    "## 0a. Settings\n",
    "Imports and settings to the the script. Besides these settings the value-based searches also need to be configured down in the code."
   ]
  },
  {
   "cell_type": "code",
   "execution_count": 1,
   "id": "cf82ebfd",
   "metadata": {},
   "outputs": [],
   "source": [
    "import numpy as np\n",
    "import pandas as pd\n",
    "from trendminer_interface import TrendMinerClient\n",
    "\n",
    "\n",
    "search_period = \"1y\"\n",
    "\n",
    "time_tag = \"TM_day_Europe_Brussels\"\n",
    "\n",
    "# Only average (mean) calculations will work for this script!\n",
    "calculations = {\n",
    "    \"temp in\": (\"TM-T200-TI201.PV\", \"mean\", \"°C\"),\n",
    "    \"temp out\": (\"TM-T200-TI202.PV\", \"mean\", \"°C\")\n",
    "    }\n",
    "\n",
    "timezone = \"Europe/Brussels\"\n",
    "\n",
    "filename = \"calculations.csv\""
   ]
  },
  {
   "cell_type": "markdown",
   "id": "35002378",
   "metadata": {},
   "source": [
    "## 0b. Authentication\n",
    "Log in to the server with client id and client secret. The client id used should have been given access rights to the date in ConfigHub > Access.\n",
    "\n",
    "Rather than use the keyring package to get a locally stored client secret, the client secret can be given as a string."
   ]
  },
  {
   "cell_type": "code",
   "execution_count": 2,
   "id": "6b2ad031",
   "metadata": {},
   "outputs": [],
   "source": [
    "import keyring\n",
    "\n",
    "url = \"https://demo.trendminer.cloud\"\n",
    "client_id = \"wdanielsclient\"\n",
    "username = \"wdaniels\"\n",
    "\n",
    "client_secret = keyring.get_password(url, client_id)\n",
    "password = keyring.get_password(url, username)\n",
    "\n",
    "client = TrendMinerClient(\n",
    "    url=url, \n",
    "    client_id=client_id, \n",
    "    client_secret=client_secret,\n",
    "    tz = timezone,\n",
    ")"
   ]
  },
  {
   "cell_type": "markdown",
   "id": "4b79eeab",
   "metadata": {},
   "source": [
    "## 1. Filtered interval retrieval\n",
    "We get the intervals we want to exclude from our search using a value-based search. No duration is given (defaults to 2x the index resolution)."
   ]
  },
  {
   "cell_type": "code",
   "execution_count": 3,
   "id": "d3eba390",
   "metadata": {},
   "outputs": [],
   "source": [
    "vbs = client.search.value(\n",
    "    queries = [\n",
    "        (\"TM-T200-FI201.PV\", \"<\", 7)\n",
    "    ]\n",
    ")\n",
    "\n",
    "excluded_intervals = vbs.get_results(search_period)"
   ]
  },
  {
   "cell_type": "markdown",
   "id": "9d490bd1",
   "metadata": {},
   "source": [
    "## 2. Full interval retrieval\n",
    "We get the intervals we want to calculate our average on. We don't calculate the average on these intervals directly, since they will contain intervals that need to be filtered out."
   ]
  },
  {
   "cell_type": "code",
   "execution_count": 4,
   "id": "39e5a184",
   "metadata": {},
   "outputs": [],
   "source": [
    "vbs = client.search.value(\n",
    "    queries = [\n",
    "        (time_tag, \"constant\")\n",
    "    ],\n",
    "    duration = \"23h\"\n",
    ")\n",
    "\n",
    "original_intervals = vbs.get_results(search_period)"
   ]
  },
  {
   "cell_type": "markdown",
   "id": "08e0f5cd",
   "metadata": {},
   "source": [
    "## 3. Subintervals retrieval and calculation\n",
    "These are the filtered-in periods that we actually want to do the calculations on. We obtain the filtered-in periods by again searching on our time tag, but this time we exclude the intervals obtained in step 1 in the search execution."
   ]
  },
  {
   "cell_type": "code",
   "execution_count": 5,
   "id": "e8ee2642",
   "metadata": {},
   "outputs": [],
   "source": [
    "vbs = client.search.value(\n",
    "    queries = [\n",
    "        (time_tag, \"constant\")\n",
    "    ],\n",
    "    calculations=calculations\n",
    ")\n",
    "\n",
    "results = vbs.get_results(search_period, excluded_intervals=excluded_intervals)"
   ]
  },
  {
   "cell_type": "markdown",
   "id": "ba362366",
   "metadata": {},
   "source": [
    "## 4. Calculation on full intervals\n",
    "For every full interval retrieved in step 2, we can now determine what subintervals fall in the full interval, and calculate a global value from these. The total average value can be found bij taking the averages of the subintervals weighted by their duration.\n",
    "\n",
    "In the calculation, we must account for the scenario that there might not be any subintervals in the full interval (i.e., the entire full interval was filtered out by the criteria in step 1)."
   ]
  },
  {
   "cell_type": "code",
   "execution_count": 6,
   "id": "b8a20ee1",
   "metadata": {},
   "outputs": [],
   "source": [
    "for interval in original_intervals:\n",
    "    \n",
    "    # Get results that fall in this interval\n",
    "    results_in_interval = [\n",
    "        result for result in results if result.start >= interval.start and result.end <= interval.end\n",
    "    ]\n",
    "    \n",
    "    total_duration = sum([result.total_seconds() for result in results_in_interval])\n",
    "    \n",
    "    # Calculate averages over all results\n",
    "    for key in calculations.keys():\n",
    "        if total_duration == 0:\n",
    "            avg = np.nan\n",
    "        else:\n",
    "            avg = sum([result.data[key]*result.total_seconds()/total_duration for result in results_in_interval])\n",
    "        interval.data.update({key: avg})"
   ]
  },
  {
   "cell_type": "markdown",
   "id": "6e9827b0",
   "metadata": {},
   "source": [
    "## 5. Export to CSV\n",
    "We can create a DataFrame from the data we added to full intervals. We add the interval start time as the index for the calculation. For clarity, we reduce the timestamps to single dates, which is fine if the interval length is a number of days."
   ]
  },
  {
   "cell_type": "code",
   "execution_count": 7,
   "id": "5e03f366",
   "metadata": {},
   "outputs": [
    {
     "data": {
      "text/html": [
       "<div>\n",
       "<style scoped>\n",
       "    .dataframe tbody tr th:only-of-type {\n",
       "        vertical-align: middle;\n",
       "    }\n",
       "\n",
       "    .dataframe tbody tr th {\n",
       "        vertical-align: top;\n",
       "    }\n",
       "\n",
       "    .dataframe thead th {\n",
       "        text-align: right;\n",
       "    }\n",
       "</style>\n",
       "<table border=\"1\" class=\"dataframe\">\n",
       "  <thead>\n",
       "    <tr style=\"text-align: right;\">\n",
       "      <th></th>\n",
       "      <th>temp in</th>\n",
       "      <th>temp out</th>\n",
       "    </tr>\n",
       "  </thead>\n",
       "  <tbody>\n",
       "    <tr>\n",
       "      <th>2021-12-24</th>\n",
       "      <td>20.714638</td>\n",
       "      <td>44.641464</td>\n",
       "    </tr>\n",
       "    <tr>\n",
       "      <th>2021-12-25</th>\n",
       "      <td>20.734539</td>\n",
       "      <td>45.049110</td>\n",
       "    </tr>\n",
       "    <tr>\n",
       "      <th>2021-12-26</th>\n",
       "      <td>20.729208</td>\n",
       "      <td>44.956966</td>\n",
       "    </tr>\n",
       "    <tr>\n",
       "      <th>2021-12-27</th>\n",
       "      <td>20.741962</td>\n",
       "      <td>45.136936</td>\n",
       "    </tr>\n",
       "    <tr>\n",
       "      <th>2021-12-28</th>\n",
       "      <td>20.230228</td>\n",
       "      <td>45.103092</td>\n",
       "    </tr>\n",
       "    <tr>\n",
       "      <th>...</th>\n",
       "      <td>...</td>\n",
       "      <td>...</td>\n",
       "    </tr>\n",
       "    <tr>\n",
       "      <th>2022-12-18</th>\n",
       "      <td>20.587900</td>\n",
       "      <td>44.930430</td>\n",
       "    </tr>\n",
       "    <tr>\n",
       "      <th>2022-12-19</th>\n",
       "      <td>20.652626</td>\n",
       "      <td>45.067860</td>\n",
       "    </tr>\n",
       "    <tr>\n",
       "      <th>2022-12-20</th>\n",
       "      <td>20.938768</td>\n",
       "      <td>44.908806</td>\n",
       "    </tr>\n",
       "    <tr>\n",
       "      <th>2022-12-21</th>\n",
       "      <td>20.156928</td>\n",
       "      <td>45.221926</td>\n",
       "    </tr>\n",
       "    <tr>\n",
       "      <th>2022-12-22</th>\n",
       "      <td>20.261946</td>\n",
       "      <td>45.317535</td>\n",
       "    </tr>\n",
       "  </tbody>\n",
       "</table>\n",
       "<p>364 rows × 2 columns</p>\n",
       "</div>"
      ],
      "text/plain": [
       "              temp in   temp out\n",
       "2021-12-24  20.714638  44.641464\n",
       "2021-12-25  20.734539  45.049110\n",
       "2021-12-26  20.729208  44.956966\n",
       "2021-12-27  20.741962  45.136936\n",
       "2021-12-28  20.230228  45.103092\n",
       "...               ...        ...\n",
       "2022-12-18  20.587900  44.930430\n",
       "2022-12-19  20.652626  45.067860\n",
       "2022-12-20  20.938768  44.908806\n",
       "2022-12-21  20.156928  45.221926\n",
       "2022-12-22  20.261946  45.317535\n",
       "\n",
       "[364 rows x 2 columns]"
      ]
     },
     "execution_count": 7,
     "metadata": {},
     "output_type": "execute_result"
    }
   ],
   "source": [
    "# to dataframe\n",
    "df = pd.DataFrame.from_records(\n",
    "    [interval.data for interval in original_intervals],\n",
    "    index=[interval.start.date() for interval in original_intervals]\n",
    ")\n",
    "\n",
    "# sort by ascending date\n",
    "df.sort_index(inplace=True)\n",
    "\n",
    "# save to csv\n",
    "df.to_csv(filename)\n",
    "\n",
    "df"
   ]
  }
 ],
 "metadata": {
  "hide_input": false,
  "kernelspec": {
   "display_name": "Python 3 (ipykernel)",
   "language": "python",
   "name": "python3"
  },
  "language_info": {
   "codemirror_mode": {
    "name": "ipython",
    "version": 3
   },
   "file_extension": ".py",
   "mimetype": "text/x-python",
   "name": "python",
   "nbconvert_exporter": "python",
   "pygments_lexer": "ipython3",
   "version": "3.9.2"
  }
 },
 "nbformat": 4,
 "nbformat_minor": 5
}
